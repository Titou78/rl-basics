{
 "cells": [
  {
   "cell_type": "code",
   "execution_count": 1,
   "metadata": {},
   "outputs": [],
   "source": [
    "import gym\n",
    "import numpy as np\n",
    "import matplotlib.pyplot as plt\n",
    "import torch\n",
    "from tqdm import tqdm\n",
    "from rlgym.agent import Agent\n",
    "\n",
    "\n",
    "plt.style.use(\"bmh\")\n"
   ]
  },
  {
   "cell_type": "code",
   "execution_count": 2,
   "metadata": {},
   "outputs": [
    {
     "name": "stderr",
     "output_type": "stream",
     "text": [
      "/home/valentin/conda/envs/gym/lib/python3.10/site-packages/gym/utils/passive_env_checker.py:97: UserWarning: \u001b[33mWARN: We recommend you to use a symmetric and normalized Box action space (range=[-1, 1]) https://stable-baselines3.readthedocs.io/en/master/guide/rl_tips.html\u001b[0m\n",
      "  logger.warn(\n"
     ]
    }
   ],
   "source": [
    "env = gym.make(\"LunarLanderContinuous-v2\") # LunarLanderContinuous-v2 LunarLander-v2\n",
    "n_episode = 100 \n",
    "log_every_n = n_episode / 100\n",
    "x = np.arange(0, n_episode, log_every_n)\n",
    "\n",
    "\n",
    "def train(algo, learning_rate, hidden_size):\n",
    "\n",
    "    obversation_space = env.observation_space.shape[0]\n",
    "\n",
    "    action_space = env.action_space\n",
    "    action_space_type = type(env.action_space).__name__\n",
    "\n",
    "    agent = Agent(algo, obversation_space, action_space,\n",
    "                  action_space_type, hidden_size, learning_rate)\n",
    "\n",
    "    log_numsteps = []\n",
    "    log_rewards = []\n",
    "\n",
    "    for t in tqdm(range(n_episode)):\n",
    "        current_state = env.reset()\n",
    "        next_state = None\n",
    "        states, actions, next_states, rewards, flags, logprobs = [], [], [], [], [], []\n",
    "        done = False\n",
    "        step = 0\n",
    "\n",
    "        while not done:\n",
    "            action, log_prob = agent.get_action(current_state)\n",
    "\n",
    "\n",
    "            next_state, reward, done, _ = env.step(action)\n",
    "\n",
    "            reward = -1 if done else reward\n",
    "\n",
    "            states.append(current_state)\n",
    "            actions.append(action)\n",
    "            next_states.append(next_state)\n",
    "            rewards.append(reward)\n",
    "            flags.append(int(done))\n",
    "            logprobs.append(log_prob)\n",
    "\n",
    "            step += 1\n",
    "\n",
    "            current_state = next_state\n",
    "\n",
    "        agent.update_policy({\n",
    "            \"states\": torch.from_numpy(np.array(states)).to(torch.device(\"cuda\")),\n",
    "            \"actions\": torch.from_numpy(np.array(actions)).to(torch.device(\"cuda\")),\n",
    "            \"next_states\": torch.from_numpy(np.array(next_states)).to(torch.device(\"cuda\")),\n",
    "            \"rewards\": torch.from_numpy(np.array(rewards)).to(torch.device(\"cuda\")),\n",
    "            \"flags\": torch.from_numpy(np.array(flags)).to(torch.device(\"cuda\")),\n",
    "            \"logprobs\": torch.stack(logprobs).squeeze()\n",
    "        })\n",
    "\n",
    "        if not t % log_every_n:\n",
    "            log_numsteps.append(step)\n",
    "            log_rewards.append(np.sum(rewards))\n",
    "\n",
    "    # agent.save(\"model.pt\")\n",
    "\n",
    "    return log_rewards, log_numsteps\n"
   ]
  },
  {
   "cell_type": "code",
   "execution_count": 3,
   "metadata": {},
   "outputs": [
    {
     "name": "stderr",
     "output_type": "stream",
     "text": [
      " 58%|█████▊    | 58/100 [00:07<00:06,  6.40it/s]"
     ]
    }
   ],
   "source": [
    "log_rewards, log_numsteps = train(\n",
    "    algo=\"ppo\", learning_rate=3e-4, hidden_size=128)\n"
   ]
  },
  {
   "cell_type": "code",
   "execution_count": null,
   "metadata": {},
   "outputs": [],
   "source": [
    "plt.plot(x, log_rewards)\n",
    "plt.show()"
   ]
  }
 ],
 "metadata": {
  "kernelspec": {
   "display_name": "Python 3.10.4 ('gym')",
   "language": "python",
   "name": "python3"
  },
  "language_info": {
   "codemirror_mode": {
    "name": "ipython",
    "version": 3
   },
   "file_extension": ".py",
   "mimetype": "text/x-python",
   "name": "python",
   "nbconvert_exporter": "python",
   "pygments_lexer": "ipython3",
   "version": "3.10.4"
  },
  "orig_nbformat": 4,
  "vscode": {
   "interpreter": {
    "hash": "ddfd5c197acfb65cdc91bc9b340da9230a182fdcc7a90c38010dccab764369e6"
   }
  }
 },
 "nbformat": 4,
 "nbformat_minor": 2
}
